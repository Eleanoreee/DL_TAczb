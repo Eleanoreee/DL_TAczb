{
 "cells": [
  {
   "cell_type": "markdown",
   "metadata": {},
   "source": [
    "# Neural Network Activation Function Comparison Lab\n",
    "\n",
    "1. Data Preparation: Fashion MNIST + Split\n",
    "2. Model Implementation: FNN for 5 activation function\n",
    "3. Training: Use the validation set to tune hyper-parameters and prevent over-fitting\n",
    "4. Evaluation: accuracy (for classification) and MSE (for regression) + Plot the training and validation loss curve\n",
    "5. Analysis"
   ]
  },
  {
   "cell_type": "code",
   "execution_count": 57,
   "metadata": {},
   "outputs": [],
   "source": [
    "# 0. Import Packages\n",
    "import torch\n",
    "import torchvision\n",
    "import torchvision.transforms as transforms\n",
    "import torchvision.datasets as datasets\n",
    "import torch.nn as nn\n",
    "import torch.nn.functional as F\n",
    "import torch.optim as optim\n",
    "import torchvision.models as models\n",
    "import numpy as np"
   ]
  },
  {
   "cell_type": "markdown",
   "metadata": {},
   "source": [
    "## 1. Data Preparation:\n",
    "1. Data-set: *Fashion MNIST*\n",
    "2. My answer is divided into 2 parts, data preparation for first 6 models and then for ResNet, becuase *RestNet-18 requires the input size to be $224 \\times 224$*\n",
    "3. To be specific, I seperate data preparation for each model to be 4 parts;\n",
    "   - Nomalize input (in the case of CV, it's normalize pixel values)\n",
    "   - Load dataset: Fashion MNIST, both for train and test\n",
    "   - Split dataset: train and validation\n",
    "   - Create data loaders for 3 sets\n",
    "        - train\n",
    "        - val: tune hyperparameters, early stopping\n",
    "        - test: evaluate the model's generalization and performance"
   ]
  },
  {
   "cell_type": "code",
   "execution_count": 58,
   "metadata": {},
   "outputs": [],
   "source": [
    "def prepare_data(dataset, batch_size=256, num_workers=0):\n",
    "    # 1.1 Define transformations\n",
    "    transform = transforms.Compose([\n",
    "        transforms.ToTensor(),\n",
    "        transforms.Normalize((0.5,), (0.5,))\n",
    "    ])\n",
    "\n",
    "    # 1.2 Download the dataset\n",
    "    dataset = dataset(root='./data', train=True, transform=transform, download=True)\n",
    "\n",
    "    # 1.3 Split into training, validation, and testing set\n",
    "    total_size = len(dataset)\n",
    "    train_size = int(0.8 * total_size)\n",
    "    val_size = total_size - train_size\n",
    "    train_dataset, val_dataset = torch.utils.data.random_split(dataset, [train_size, val_size])\n",
    "\n",
    "    # 1.4 Create data loaders\n",
    "    train_loader = torch.utils.data.DataLoader(train_dataset, batch_size=batch_size, shuffle=True, num_workers=num_workers)\n",
    "    val_loader = torch.utils.data.DataLoader(val_dataset, batch_size=batch_size, shuffle=False, num_workers=num_workers)\n",
    "    \n",
    "    return train_loader, val_loader\n",
    "\n",
    "\n",
    "# 2. Usage for the first 6 models (FashionMNIST with 28x28 images)\n",
    "train_loader, val_loader = prepare_data(torchvision.datasets.FashionMNIST)"
   ]
  },
  {
   "cell_type": "code",
   "execution_count": 59,
   "metadata": {},
   "outputs": [],
   "source": [
    "# 3. Usage for the second part (ResNet)\n",
    "# 3.1 transform input data\n",
    "transform_resnet = transforms.Compose([transforms.ToTensor(), transforms.Lambda(lambda x: x.repeat(3, 1, 1))]) # repeat 3 times on channel dimension to fit input for pre-trained restnet18\n",
    "\n",
    "batch_size = 256\n",
    "\n",
    "# 3.2 download dataset\n",
    "train_set = datasets.FashionMNIST(root='./data', train=True, transform=transform_resnet, download=True)\n",
    "test_set = datasets.FashionMNIST(root='./data', train=False, transform=transform_resnet, download=True)\n",
    "\n",
    "# 3.3 data loader\n",
    "train_loader_resnet = torch.utils.data.DataLoader(train_set, batch_size=batch_size, shuffle=True, num_workers=0) # data will be loaded in the main process\n",
    "val_loader_resnet = torch.utils.data.DataLoader(test_set, batch_size=batch_size, shuffle=False, num_workers=0)"
   ]
  },
  {
   "cell_type": "markdown",
   "metadata": {},
   "source": [
    "## 2. Model Implementation:\n",
    "1. Design a feedforward neural network with multiple layers.\n",
    "2. Implement the network five times, each time using one of the activation functions listed above."
   ]
  },
  {
   "cell_type": "markdown",
   "metadata": {},
   "source": [
    "### Hints: Pay attention to the training dynamics. Some activation functions might require adjustments in terms of initialization or optimization techniques.\n",
    "\n",
    "1. Sigmoid\n",
    "- Initialization: input range from $(0, 1)$, weights around zero\n",
    "2. Tanh\n",
    "- Initialization: input range from $(-1, 1)$, weights around zero\n",
    "3. ReLU\n",
    "- Initialization: He initialization or LeCun initialization (??? what is it)\n",
    "4. GELU\n",
    "\n",
    "5. Swish\n",
    "\n",
    "6. LeNet\n",
    "\n",
    "7. ResNet\n",
    "- ResNet-18 requires $224 \\times 224$ input, with $3$ channels(RGB)\n",
    "- ResNet-18, as a pre-trained model, have ouput feature $1000 \\times 1000$\n",
    "- In the case that I try to use ResNet-18 as a pre-trained model to classify Fashion MNIST, so some adaptation work should be done here."
   ]
  },
  {
   "cell_type": "code",
   "execution_count": 109,
   "metadata": {},
   "outputs": [],
   "source": [
    "# 2.1.1 Design a FNN class\n",
    "class FeedForwardNN(nn.Module):\n",
    "    def __init__(self, input_size, hidden_size, num_classes, activation_func):\n",
    "        super(FeedForwardNN, self).__init__()\n",
    "        self.fc1 = nn.Linear(input_size, hidden_size)\n",
    "        self.fc2 = nn.Linear(hidden_size, hidden_size)\n",
    "        self.fc3 = nn.Linear(hidden_size, num_classes)\n",
    "        self.activation_func = activation_func\n",
    "\n",
    "    def forward(self, x):\n",
    "        x = x.view(x.size(0), -1)\n",
    "        x = self.activation_func(self.fc1(x))\n",
    "        x = self.activation_func(self.fc2(x))\n",
    "        x = self.fc3(x)\n",
    "        return x\n",
    "\n",
    "# 2.1.2 Define parameters for FNN class\n",
    "input_size = 28 * 28\n",
    "hidden_size = 128\n",
    "num_classes = 10\n",
    "\n",
    "# 2.1.3 for GeLU\n",
    "class GELU(nn.Module):\n",
    "    def forward(self, x):\n",
    "        return 0.5 * x * (1 + torch.tanh(np.sqrt(2 / np.pi) * (x + 0.044715 * torch.pow(x, 3))))\n",
    "\n",
    "# 2.1. 4 Create instance of FNN with different activation function\n",
    "sigmoid_net = FeedForwardNN(input_size, hidden_size, num_classes, nn.Sigmoid())\n",
    "tanh_net = FeedForwardNN(input_size, hidden_size, num_classes, nn.Tanh())\n",
    "relu_net = FeedForwardNN(input_size, hidden_size, num_classes, nn.ReLU())\n",
    "gelu_net = FeedForwardNN(input_size, hidden_size, num_classes, GELU())\n",
    "swish_net = FeedForwardNN(input_size, hidden_size, num_classes, lambda x: x * torch.sigmoid(x))"
   ]
  },
  {
   "cell_type": "code",
   "execution_count": 61,
   "metadata": {},
   "outputs": [],
   "source": [
    "# 2.2 Design a LeNet\n",
    "class LeNet(nn.Module):\n",
    "    def __init__(self, num_classes):\n",
    "        super(LeNet, self).__init__()\n",
    "        self.conv1 = nn.Conv2d(1, 6, kernel_size=5)\n",
    "        self.conv2 = nn.Conv2d(6, 16, kernel_size=5)\n",
    "        self.fc1 = nn.Linear(16 * 4 * 4, 120)\n",
    "        self.fc2 = nn.Linear(120, 84)\n",
    "        self.fc3 = nn.Linear(84, num_classes)\n",
    "\n",
    "    def forward(self, x):\n",
    "        x = F.relu(self.conv1(x))\n",
    "        x = F.max_pool2d(x, 2)\n",
    "        x = F.relu(self.conv2(x))\n",
    "        x = F.max_pool2d(x, 2)\n",
    "        x = x.view(x.size(0), -1)\n",
    "        x = F.relu(self.fc1(x))\n",
    "        x = F.relu(self.fc2(x))\n",
    "        x = self.fc3(x)\n",
    "        return x"
   ]
  },
  {
   "cell_type": "code",
   "execution_count": 67,
   "metadata": {},
   "outputs": [
    {
     "name": "stderr",
     "output_type": "stream",
     "text": [
      "/Library/Frameworks/Python.framework/Versions/3.10/lib/python3.10/site-packages/torchvision/models/_utils.py:208: UserWarning: The parameter 'pretrained' is deprecated since 0.13 and may be removed in the future, please use 'weights' instead.\n",
      "  warnings.warn(\n",
      "/Library/Frameworks/Python.framework/Versions/3.10/lib/python3.10/site-packages/torchvision/models/_utils.py:223: UserWarning: Arguments other than a weight enum or `None` for 'weights' are deprecated since 0.13 and may be removed in the future. The current behavior is equivalent to passing `weights=ResNet18_Weights.IMAGENET1K_V1`. You can also use `weights=ResNet18_Weights.DEFAULT` to get the most up-to-date weights.\n",
      "  warnings.warn(msg)\n"
     ]
    }
   ],
   "source": [
    "# 2.3 Design a ResNet using pre-trained ResNet-18, after optimization\n",
    "#print(models.resnet18())\n",
    "\n",
    "class ResNetFeatureExtractor18(nn.Module):\n",
    "    def __init__(self, pretrained=True):\n",
    "        super(ResNetFeatureExtractor18, self).__init__()\n",
    "        model_resnet18 = models.resnet18(pretrained=pretrained)\n",
    "        self.conv1 = model_resnet18.conv1\n",
    "        self.bn1 = model_resnet18.bn1\n",
    "        self.relu = model_resnet18.relu\n",
    "        self.maxpool = model_resnet18.maxpool\n",
    "        self.layer1 = model_resnet18.layer1\n",
    "        self.layer2 = model_resnet18.layer2\n",
    "        self.layer3 = model_resnet18.layer3\n",
    "        self.layer4 = model_resnet18.layer4\n",
    "        self.avgpool = model_resnet18.avgpool\n",
    "\n",
    "    def forward(self, x):\n",
    "        x = self.relu(self.bn1(self.conv1(x)))\n",
    "        x = self.maxpool(x)\n",
    "        x = self.layer4(self.layer3(self.layer2(self.layer1(x))))\n",
    "        x = self.avgpool(x)\n",
    "        x = x.view(x.size(0), -1) # x.size(0) gives batchsize, -1 help to flatten tensor\n",
    "    \n",
    "        return x\n",
    "\n",
    "class ResNetClassifier(nn.Module):\n",
    "    def __init__(self, dropout_p=0.5): # prevent overfitting\n",
    "        super(ResNetClassifier, self).__init__()\n",
    "        self.fc = nn.Linear(512, 10) # in 512 and out 10\n",
    "\n",
    "    def forward(self, x):\n",
    "        out = self.fc(x)\n",
    "        return out\n",
    "\n",
    "def weight_init_(module):\n",
    "    classname = module.__class__.__name__ # extracts the name of the class of the module\n",
    "    if classname.find('conv') != -1:\n",
    "        torch.nn.init.xavier_uniform_(module.weight) # Xavier helps initialize weights to ensure that the activations neither vanish nor explode\n",
    "    elif classname.find('Linear') != -1:\n",
    "        torch.nn.init.xavier_uniform_(m.weight)\n",
    "    elif classname.find('BatchNorm') != -1:\n",
    "        m.weight.data.normal_(1.0, 0.01) #  initial scaling of batch normalization layers\n",
    "\n",
    "netG = ResNetFeatureExtractor18(pretrained = True)\n",
    "netF = ResNetClassifier()\n",
    "\n",
    "class ResNetCombined(nn.Module):\n",
    "    def __init__(self, feature_extractor, classifier):\n",
    "        super(ResNetCombined, self).__init__()\n",
    "        self.feature_extractor = feature_extractor\n",
    "        self.classifier = classifier\n",
    "\n",
    "    def forward(self, x):\n",
    "        feature = self.feature_extractor(x)\n",
    "        outputs = self.classifier(feature)\n",
    "        return outputs\n",
    "    \n",
    "combined_model = ResNetCombined(netG, netF)"
   ]
  },
  {
   "cell_type": "code",
   "execution_count": null,
   "metadata": {},
   "outputs": [],
   "source": [
    "# 2.3 Design a ResNet using pre-trained ResNet-18, version one\n",
    "\n",
    "# 2.3.1 Define a custom classification head\n",
    "class CustomResNet(nn.Module): \n",
    "    def __init__(self, pretrained_resnet):\n",
    "        super(CustomResNet, self).__init__()\n",
    "        self.resnet = pretrained_resnet\n",
    "        self.resnet.conv1 = nn.Conv2d(1, 64, kernel_size=7, stride=2, padding=3, bias=False) # modify the 'conv1' layer from 3 channels to 1\n",
    "        self.classifier = nn.Sequential(\n",
    "            nn.Linear(1000, 512),  # ResNet-18 has 1000 output features\n",
    "            nn.ReLU(),\n",
    "            nn.Linear(512, 10)     # 10 classes for FashionMNIST\n",
    "        )"
   ]
  },
  {
   "cell_type": "markdown",
   "metadata": {},
   "source": [
    "## 3. Training:\n",
    "1. Train each of the five neural network models on the training dataset.\n",
    "2. Use the validation set to tune hyperparameters and prevent overfitting."
   ]
  },
  {
   "cell_type": "code",
   "execution_count": 64,
   "metadata": {},
   "outputs": [],
   "source": [
    "# Define the training and evaluation loop\n",
    "def train_and_evaluate(model, train_loader, val_loader, num_epochs, learning_rate):\n",
    "    optimizer = optim.SGD(model.parameters(), lr=learning_rate, momentum=0.9, weight_decay=0.0001)\n",
    "    criterion = nn.CrossEntropyLoss()\n",
    "\n",
    "    train_losses = []\n",
    "    val_losses = []\n",
    "    train_accuracies = []  # Track training accuracy\n",
    "    val_accuracies = []    # Track validation accuracy\n",
    "\n",
    "    best_val_loss = float('inf')  # Initialize with a high value\n",
    "    best_model_state = None\n",
    "\n",
    "    for epoch in range(num_epochs):\n",
    "        # Training loop\n",
    "        model.train()\n",
    "        total_loss = 0.0\n",
    "        correct_predictions = 0\n",
    "        total_samples = 0\n",
    "\n",
    "        for inputs, labels in train_loader:\n",
    "            optimizer.zero_grad()\n",
    "            outputs = model(inputs)\n",
    "            loss = criterion(outputs, labels)\n",
    "            loss.backward()\n",
    "            optimizer.step()\n",
    "\n",
    "            total_loss += loss.item()\n",
    "            _, predicted = torch.max(outputs, 1)\n",
    "            correct_predictions += (predicted == labels).sum().item()\n",
    "            total_samples += labels.size(0)\n",
    "\n",
    "        train_loss = total_loss / len(train_loader)\n",
    "        train_accuracy = correct_predictions / total_samples\n",
    "        train_losses.append(train_loss)\n",
    "        train_accuracies.append(train_accuracy)\n",
    "\n",
    "        # Validation loop\n",
    "        model.eval()\n",
    "        val_loss = 0.0\n",
    "        val_correct_predictions = 0\n",
    "        total_samples = 0\n",
    "\n",
    "        with torch.no_grad():\n",
    "            for inputs, labels in val_loader:\n",
    "                outputs = model(inputs)\n",
    "                loss = criterion(outputs, labels)\n",
    "\n",
    "                val_loss += loss.item()\n",
    "                _, predicted = torch.max(outputs, 1)\n",
    "                val_correct_predictions += (predicted == labels).sum().item()\n",
    "                total_samples += labels.size(0)\n",
    "\n",
    "        val_loss = val_loss / len(val_loader)\n",
    "        val_accuracy = val_correct_predictions / total_samples\n",
    "        val_losses.append(val_loss)\n",
    "        val_accuracies.append(val_accuracy)\n",
    "\n",
    "        # Print training and validation results\n",
    "        print(f'Epoch [{epoch + 1}/{num_epochs}] '\n",
    "              f'Train Loss: {train_loss:.4f} '\n",
    "              f'Train Acc: {train_accuracy * 100:.2f}% '\n",
    "              f'Val Loss: {val_loss:.4f} '\n",
    "              f'Val Acc: {val_accuracy * 100:.2f}%')\n",
    "\n",
    "        # Early stopping: Stop training if validation loss increases to prevent overfitting\n",
    "        if val_loss < best_val_loss:\n",
    "            best_val_loss = val_loss\n",
    "            best_model_state = model.state_dict()\n",
    "        else:\n",
    "            print(\"Validation loss increased. Stopping early.\")\n",
    "            break\n",
    "\n",
    "    # Load the best model state\n",
    "    model.load_state_dict(best_model_state)\n",
    "    \n",
    "    return train_losses, val_losses, train_accuracies, val_accuracies"
   ]
  },
  {
   "cell_type": "code",
   "execution_count": 71,
   "metadata": {},
   "outputs": [
    {
     "name": "stdout",
     "output_type": "stream",
     "text": [
      "Epoch [1/10] Train Loss: 0.5490 Train Acc: 80.13% Val Loss: 0.5480 Val Acc: 79.96%\n",
      "Epoch [2/10] Train Loss: 0.5283 Train Acc: 81.09% Val Loss: 0.5296 Val Acc: 80.83%\n",
      "Epoch [3/10] Train Loss: 0.5118 Train Acc: 81.71% Val Loss: 0.5153 Val Acc: 81.53%\n",
      "Epoch [4/10] Train Loss: 0.4978 Train Acc: 82.26% Val Loss: 0.5029 Val Acc: 82.03%\n",
      "Epoch [5/10] Train Loss: 0.4850 Train Acc: 82.75% Val Loss: 0.4918 Val Acc: 82.50%\n",
      "Epoch [6/10] Train Loss: 0.4745 Train Acc: 83.15% Val Loss: 0.4837 Val Acc: 82.65%\n",
      "Epoch [7/10] Train Loss: 0.4649 Train Acc: 83.58% Val Loss: 0.4757 Val Acc: 83.05%\n",
      "Epoch [8/10] Train Loss: 0.4554 Train Acc: 83.82% Val Loss: 0.4667 Val Acc: 83.38%\n",
      "Epoch [9/10] Train Loss: 0.4484 Train Acc: 84.12% Val Loss: 0.4624 Val Acc: 83.53%\n",
      "Epoch [10/10] Train Loss: 0.4411 Train Acc: 84.28% Val Loss: 0.4582 Val Acc: 83.58%\n"
     ]
    }
   ],
   "source": [
    "# 4 Implementation\n",
    "\n",
    "# 4.1 Useage for model 1: sigmoid_net\n",
    "num_epochs = 10\n",
    "learning_rate = 0.01\n",
    "\n",
    "train_losses, val_losses, train_accuracies, val_accuracies = train_and_evaluate(sigmoid_net, train_loader, val_loader, num_epochs, learning_rate)\n",
    "stats_sigmoid = [train_losses, val_losses, train_accuracies, val_accuracies]"
   ]
  },
  {
   "cell_type": "code",
   "execution_count": 78,
   "metadata": {},
   "outputs": [
    {
     "name": "stdout",
     "output_type": "stream",
     "text": [
      "Epoch [1/10] Train Loss: 0.3107 Train Acc: 88.91% Val Loss: 0.3679 Val Acc: 86.56%\n",
      "Epoch [2/10] Train Loss: 0.3074 Train Acc: 88.96% Val Loss: 0.3590 Val Acc: 86.91%\n",
      "Epoch [3/10] Train Loss: 0.2978 Train Acc: 89.17% Val Loss: 0.3523 Val Acc: 87.35%\n",
      "Epoch [4/10] Train Loss: 0.2896 Train Acc: 89.47% Val Loss: 0.3460 Val Acc: 87.21%\n",
      "Epoch [5/10] Train Loss: 0.2842 Train Acc: 89.64% Val Loss: 0.3368 Val Acc: 87.60%\n",
      "Epoch [6/10] Train Loss: 0.2793 Train Acc: 89.84% Val Loss: 0.3298 Val Acc: 88.11%\n",
      "Epoch [7/10] Train Loss: 0.2736 Train Acc: 89.95% Val Loss: 0.3296 Val Acc: 87.89%\n",
      "Epoch [8/10] Train Loss: 0.2636 Train Acc: 90.43% Val Loss: 0.3362 Val Acc: 87.81%\n",
      "Validation loss increased. Stopping early.\n"
     ]
    }
   ],
   "source": [
    "# 4.2 Useage for model 2: tanh_net\n",
    "num_epochs = 10\n",
    "learning_rate = 0.01\n",
    "\n",
    "train_losses, val_losses, train_accuracies, val_accuracies = train_and_evaluate(tanh_net, train_loader, val_loader, num_epochs, learning_rate)\n",
    "stats_tanh = [train_losses, val_losses, train_accuracies, val_accuracies]"
   ]
  },
  {
   "cell_type": "code",
   "execution_count": 72,
   "metadata": {},
   "outputs": [
    {
     "name": "stdout",
     "output_type": "stream",
     "text": [
      "Epoch [1/10] Train Loss: 0.9150 Train Acc: 68.55% Val Loss: 0.5425 Val Acc: 80.73%\n",
      "Epoch [2/10] Train Loss: 0.4909 Train Acc: 82.41% Val Loss: 0.4854 Val Acc: 82.44%\n",
      "Epoch [3/10] Train Loss: 0.4395 Train Acc: 84.28% Val Loss: 0.4428 Val Acc: 84.12%\n",
      "Epoch [4/10] Train Loss: 0.4079 Train Acc: 85.46% Val Loss: 0.4155 Val Acc: 85.20%\n",
      "Epoch [5/10] Train Loss: 0.3871 Train Acc: 86.29% Val Loss: 0.4009 Val Acc: 85.72%\n",
      "Epoch [6/10] Train Loss: 0.3696 Train Acc: 86.84% Val Loss: 0.3883 Val Acc: 85.94%\n",
      "Epoch [7/10] Train Loss: 0.3545 Train Acc: 87.29% Val Loss: 0.3773 Val Acc: 86.12%\n",
      "Epoch [8/10] Train Loss: 0.3429 Train Acc: 87.58% Val Loss: 0.3934 Val Acc: 85.97%\n",
      "Validation loss increased. Stopping early.\n"
     ]
    }
   ],
   "source": [
    "# 4.3 Useage for model 3: relu_net\n",
    "num_epochs = 10\n",
    "learning_rate = 0.01\n",
    "train_losses, val_losses, train_accuracies, val_accuracies = train_and_evaluate(relu_net, train_loader, val_loader, num_epochs, learning_rate)\n",
    "stats_relu = [train_losses, val_losses, train_accuracies, val_accuracies]"
   ]
  },
  {
   "cell_type": "code",
   "execution_count": 110,
   "metadata": {},
   "outputs": [
    {
     "name": "stdout",
     "output_type": "stream",
     "text": [
      "Epoch [1/10] Train Loss: 0.9400 Train Acc: 67.55% Val Loss: 0.5390 Val Acc: 80.31%\n",
      "Epoch [2/10] Train Loss: 0.4879 Train Acc: 82.25% Val Loss: 0.4683 Val Acc: 83.07%\n",
      "Epoch [3/10] Train Loss: 0.4335 Train Acc: 84.32% Val Loss: 0.4268 Val Acc: 84.51%\n",
      "Epoch [4/10] Train Loss: 0.3988 Train Acc: 85.66% Val Loss: 0.4089 Val Acc: 85.39%\n",
      "Epoch [5/10] Train Loss: 0.3804 Train Acc: 86.23% Val Loss: 0.3875 Val Acc: 85.84%\n",
      "Epoch [6/10] Train Loss: 0.3650 Train Acc: 86.78% Val Loss: 0.3936 Val Acc: 85.74%\n",
      "Validation loss increased. Stopping early.\n"
     ]
    }
   ],
   "source": [
    "# 4.4 Useage for model 4: gelu_net\n",
    "num_epochs = 10\n",
    "learning_rate = 0.01\n",
    "train_losses, val_losses, train_accuracies, val_accuracies = train_and_evaluate(gelu_net, train_loader, val_loader, num_epochs, learning_rate)\n",
    "stats_gelu_net = [train_losses, val_losses, train_accuracies, val_accuracies]"
   ]
  },
  {
   "cell_type": "code",
   "execution_count": 74,
   "metadata": {},
   "outputs": [
    {
     "name": "stdout",
     "output_type": "stream",
     "text": [
      "Epoch [1/10] Train Loss: 0.9908 Train Acc: 65.99% Val Loss: 0.5612 Val Acc: 79.02%\n",
      "Epoch [2/10] Train Loss: 0.5003 Train Acc: 81.81% Val Loss: 0.4737 Val Acc: 82.84%\n",
      "Epoch [3/10] Train Loss: 0.4431 Train Acc: 83.95% Val Loss: 0.4396 Val Acc: 84.26%\n",
      "Epoch [4/10] Train Loss: 0.4127 Train Acc: 85.18% Val Loss: 0.4257 Val Acc: 84.47%\n",
      "Epoch [5/10] Train Loss: 0.3955 Train Acc: 85.82% Val Loss: 0.4128 Val Acc: 85.00%\n",
      "Epoch [6/10] Train Loss: 0.3757 Train Acc: 86.59% Val Loss: 0.3941 Val Acc: 85.72%\n",
      "Epoch [7/10] Train Loss: 0.3668 Train Acc: 86.69% Val Loss: 0.3941 Val Acc: 85.72%\n",
      "Validation loss increased. Stopping early.\n"
     ]
    }
   ],
   "source": [
    "# 4.5 Useage for model 5: swish_net\n",
    "num_epochs = 10\n",
    "learning_rate = 0.01\n",
    "train_losses, val_losses, train_accuracies, val_accuracies = train_and_evaluate(swish_net, train_loader, val_loader, num_epochs, learning_rate)\n",
    "stats_swish = [train_losses, val_losses, train_accuracies, val_accuracies]"
   ]
  },
  {
   "cell_type": "code",
   "execution_count": 76,
   "metadata": {},
   "outputs": [
    {
     "name": "stdout",
     "output_type": "stream",
     "text": [
      "Epoch [1/10] Train Loss: 1.3875 Train Acc: 49.18% Val Loss: 0.6894 Val Acc: 73.93%\n",
      "Epoch [2/10] Train Loss: 0.6126 Train Acc: 76.96% Val Loss: 0.5481 Val Acc: 79.20%\n",
      "Epoch [3/10] Train Loss: 0.5031 Train Acc: 81.40% Val Loss: 0.4721 Val Acc: 83.18%\n",
      "Epoch [4/10] Train Loss: 0.4487 Train Acc: 83.57% Val Loss: 0.4263 Val Acc: 84.28%\n",
      "Epoch [5/10] Train Loss: 0.4069 Train Acc: 85.16% Val Loss: 0.4026 Val Acc: 85.38%\n",
      "Epoch [6/10] Train Loss: 0.3791 Train Acc: 86.13% Val Loss: 0.3893 Val Acc: 85.63%\n",
      "Epoch [7/10] Train Loss: 0.3547 Train Acc: 87.06% Val Loss: 0.3619 Val Acc: 86.78%\n",
      "Epoch [8/10] Train Loss: 0.3402 Train Acc: 87.53% Val Loss: 0.3601 Val Acc: 86.86%\n",
      "Epoch [9/10] Train Loss: 0.3249 Train Acc: 88.13% Val Loss: 0.3612 Val Acc: 86.84%\n",
      "Validation loss increased. Stopping early.\n"
     ]
    }
   ],
   "source": [
    "# 4.6 Usage for model 6: LeNet\n",
    "lenet_model = LeNet(num_classes) # Instantiate\n",
    "num_epochs = 10\n",
    "learning_rate = 0.01\n",
    "train_losses, val_losses, train_accuracies, val_accuracies = train_and_evaluate(lenet_model, train_loader, val_loader, num_epochs, learning_rate)\n",
    "stats_lenet = [train_losses, val_losses, train_accuracies, val_accuracies]"
   ]
  },
  {
   "cell_type": "code",
   "execution_count": 102,
   "metadata": {},
   "outputs": [
    {
     "name": "stdout",
     "output_type": "stream",
     "text": [
      "Epoch [1/10] Train Loss: 0.2239 Train Acc: 91.73% Val Loss: 0.2783 Val Acc: 90.19%\n",
      "Epoch [2/10] Train Loss: 0.1866 Train Acc: 93.14% Val Loss: 0.2746 Val Acc: 90.46%\n",
      "Epoch [3/10] Train Loss: 0.1600 Train Acc: 94.03% Val Loss: 0.2619 Val Acc: 91.03%\n",
      "Epoch [4/10] Train Loss: 0.1393 Train Acc: 94.76% Val Loss: 0.2397 Val Acc: 91.98%\n",
      "Epoch [5/10] Train Loss: 0.1221 Train Acc: 95.45% Val Loss: 0.2953 Val Acc: 90.05%\n",
      "Validation loss increased. Stopping early.\n"
     ]
    }
   ],
   "source": [
    "# 4.7 Usage for model 7: ResNet\n",
    "\n",
    "num_epochs = 10\n",
    "learning_rate = 0.01\n",
    "train_losses, val_losses, train_accuracies, val_accuracies = train_and_evaluate(combined_model, train_loader_resnet, val_loader_resnet, num_epochs, learning_rate)\n",
    "stats_resnet = [train_losses, val_losses, train_accuracies, val_accuracies]"
   ]
  },
  {
   "cell_type": "markdown",
   "metadata": {},
   "source": [
    "## 5. Evaluation:\n",
    "- Evaluate the performance of each model on the test set. Consider metrics like accuracy (for classification) or mean squared error (for regression).\n",
    "- Plot the training and validation loss curves for each model to visualize the learning process."
   ]
  },
  {
   "cell_type": "code",
   "execution_count": 103,
   "metadata": {},
   "outputs": [
    {
     "data": {
      "image/png": "[encoded data removed]",
      "text/plain": [
       "<Figure size 720x360 with 1 Axes>"
      ]
     },
     "metadata": {
      "needs_background": "light"
     },
     "output_type": "display_data"
    }
   ],
   "source": [
    "# 5. Evaluation\n",
    "import matplotlib.pyplot as plt\n",
    "import numpy as np\n",
    "\n",
    "# sample data\n",
    "models = ['sigmoid', 'tanh', 'relu', 'gelu', 'swish', 'lenet', 'resnet']\n",
    "final_accuracies = []\n",
    "final_accuracies.append(stats_sigmoid[3][-1])\n",
    "final_accuracies.append(stats_tanh[3][-1])\n",
    "final_accuracies.append(stats_relu[3][-1])\n",
    "final_accuracies.append(stats_gelu_net[3][-1])\n",
    "final_accuracies.append(stats_swish[3][-1])\n",
    "final_accuracies.append(stats_lenet[3][-1])\n",
    "final_accuracies.append(stats_resnet[3][-1])\n",
    "\n",
    "# plot\n",
    "plt.figure(figsize=(10, 5))\n",
    "plt.bar(models, final_accuracies, color ='lightblue', width = 0.4)\n",
    "plt.title('Final Accuracy of Different Models')\n",
    "plt.xlabel('Models')\n",
    "plt.ylabel('Accuracy')\n",
    "plt.ylim([0.7, 1])\n",
    "plt.show()"
   ]
  },
  {
   "cell_type": "code",
   "execution_count": 104,
   "metadata": {},
   "outputs": [
    {
     "data": {
      "image/png": "[encoded data removed]",
      "text/plain": [
       "<Figure size 720x432 with 1 Axes>"
      ]
     },
     "metadata": {
      "needs_background": "light"
     },
     "output_type": "display_data"
    }
   ],
   "source": [
    "test_accuracies_sigmoid = stats_sigmoid[3]\n",
    "test_accuracies_tanh = stats_tanh[3]\n",
    "test_accuracies_relu = stats_relu[3]\n",
    "test_accuracies_gelu_net = stats_gelu_net[3]\n",
    "test_accuracies_swish = stats_swish[3]\n",
    "test_accuracies_lenet = stats_lenet[3]\n",
    "test_accuracies_resnet = stats_resnet[3]\n",
    "\n",
    "plt.figure(figsize=(10, 6))\n",
    "plt.plot(range(len(test_accuracies_sigmoid)),test_accuracies_sigmoid,label='sigmoid')\n",
    "plt.plot(range(len(test_accuracies_tanh)),test_accuracies_tanh,label='tanh')\n",
    "plt.plot(range(len(test_accuracies_relu)),test_accuracies_relu,label='relu')\n",
    "plt.plot(range(len(test_accuracies_gelu_net)),test_accuracies_gelu_net,label='gelu')\n",
    "plt.plot(range(len(test_accuracies_swish)),test_accuracies_swish,label='swish')\n",
    "plt.plot(range(len(test_accuracies_lenet)),test_accuracies_lenet,label='lenet')\n",
    "plt.plot(range(len(test_accuracies_resnet)),test_accuracies_resnet,label='resnet')\n",
    "plt.title('Accuracies of different models')\n",
    "plt.xlabel('epoch')\n",
    "plt.ylabel('accuracy %')\n",
    "plt.xlim([0, 10])\n",
    "plt.legend()\n",
    "plt.show()"
   ]
  },
  {
   "cell_type": "markdown",
   "metadata": {},
   "source": [
    "## 5.2 Analysis\n",
    "\n",
    "### 5.2.1 Compare the performance of each activation function in terms of final accuracy or error on the test set.\n",
    "| Statistics | Sigmoid | tanh | ReLU | GELU | Swish | LeNet | ResNet |\n",
    "|----------|----------|----------|----------|----------|----------|----------|----------|\n",
    "| Test Accuracy | $83.58\\%$ | $87.81\\%$ | $85.97\\%$ | $85.74\\%$ | $85.72\\%$ | $86.84\\%$ | $90.05\\%$ |\n",
    "| Loss | $0.4582$ | $0.3362$ | $0.3934$ | $0.3936$ | $0.3941$ | $0.3612$ | 0.2953 |\n",
    "\n",
    "### 5.2.2 Discuss the observed differences in terms of convergence speed, final performance, and any other notable characteristics.\n",
    "\n",
    "- Convergence Speed:\n",
    "    - To reach $0.85\\%$ or higher accuracy on test set, **ResNet** and **MLP with tanh** show distinguished performance. **MLP with GELU**,  **ReLU**, **LeNet**, and **Swish** are the followers, while **sigmoid** seems to have slowest convergence speed.\n",
    "\n",
    "- Final Performance\n",
    "    - **ResNet** is the one reaches highest accuracy, that is $90.05\\%$ within in the $10$ epochs. \n",
    "    - **tanh** and **LeNet** are the next two highest accuracies, which are $87.81\\%$ and $86.84\\%$.\n",
    "    - **GeLU**, **Swish**, and **ReLu** have very close final accuracies, which are $85.74\\%$, $85.72\\%$, and $85.97\\%$.\n",
    "    - **Sigmoid** is again the last one, with final accuracy $83.58\\%$.\n",
    "\n",
    "- Other notable characteristics\n",
    "    - Training time: \n",
    "        - For **MLP** with different activation functions, the training time is around 1 - 3 minutes, while discrepancy may be cause by early stopping and amount of calculation needed for different activation functions. \n",
    "        - As for CNN, **LeNet** takes 3m 25.2s and **ResNet** takes 15m54.1s to convergent. It is due to the differences in network architecture, as **ResNet** has much more layers than all others.\n",
    "    - Hyper-parameters: \n",
    "        - It seems that the choice of hyper-parameters also has great impact on the final accuracies of models. \n",
    "        - As I changes batch-size from $64$ to $256$ in order to reduce the training time of **ResNet**, it is observed that the overall accuracies of **MLP** decreases. \n",
    "\n",
    "### 5.2.3 Reflect on scenarios where one activation function might be preferred over others.\n",
    "- As for **MLP**\n",
    "    - it seems that **tanh** is the best one when looking from the view of final accuracies, which is a little weird and inconsistent with our prediction that **ReLU** would be better. \n",
    "    - but for sure we should not consider **sigmoid** as activation function\n",
    "\n",
    "- As for CNN\n",
    "    - without considering training time, **ResNet** is the best choice. The only problem here for it would be over-fitting, so maybe techniques such as dropout can be introduced to modify. \n",
    "    - With time considered, **LeNet** is a good choice, since its training time is not considerable longer than any **MLP** methods.\n",
    "\n",
    "### Please report the names of the last two activation functions. Tell me what's the advantage of those two functions.\n",
    "- **GELU** : Gaussian Error Linear Unit\n",
    "    - $GELU(x) = xP(X \\leq x) = x \\Phi (x) = x \\cdot \\frac{1}{2} [1 + erf(\\frac{x}{\\sqrt{2}})]$\n",
    "    - $GELU(x) \\approx  0.5x \\left(1 + \\tanh\\left(\\sqrt{\\frac{2}{\\pi}} \\left(x + 0.044715x^3\\right)\\right)\\right)$\n",
    "    - GELU has been designed to approximate the cumulative distribution function of a Gaussian distribution, so its nonlinearity weights inputs by their percentile, rather than gates inputs by their sign as in **ReLU**\n",
    "    - GELU is differentiable, and thus easy to calculate gradient\n",
    "\n",
    "- **Swish**: $Swish(x) = \\frac{x}{1 + e^{-x}} = x \\cdot \\sigma(x)$\n",
    "    - While **ReLU** is the most wide-used activation functions, the biggest problem that it outputting $0$ for negative values added to back-propagation, which will cause some neurons to die, and **Swish** solves the problem."
   ]
  }
 ],
 "metadata": {
  "kernelspec": {
   "display_name": "Python 3 (ipykernel)",
   "language": "python",
   "name": "python3"
  },
  "language_info": {
   "codemirror_mode": {
    "name": "ipython",
    "version": 3
   },
   "file_extension": ".py",
   "mimetype": "text/x-python",
   "name": "python",
   "nbconvert_exporter": "python",
   "pygments_lexer": "ipython3",
   "version": "3.10.11"
  }
 },
 "nbformat": 4,
 "nbformat_minor": 4
}
